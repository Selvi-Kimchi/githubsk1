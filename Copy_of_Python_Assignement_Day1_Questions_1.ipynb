{
  "cells": [
    {
      "cell_type": "markdown",
      "metadata": {
        "id": "D-KgkVX3IZ-S"
      },
      "source": [
        "1.  Python Program to exchange the values of two numbers without using a temporary variable."
      ]
    },
    {
      "cell_type": "code",
      "execution_count": 10,
      "metadata": {
        "id": "yldf_YhdIZ-T",
        "colab": {
          "base_uri": "https://localhost:8080/"
        },
        "outputId": "d0908d81-487b-4d59-b903-b3ec9ed851e1"
      },
      "outputs": [
        {
          "output_type": "stream",
          "name": "stdout",
          "text": [
            "5\n",
            "10\n",
            "10 5\n"
          ]
        }
      ],
      "source": [
        "a1=int(input())\n",
        "a2=int(input())\n",
        "a1, a2 = a2, a1\n",
        "print(a1, a2)"
      ]
    },
    {
      "cell_type": "markdown",
      "metadata": {
        "id": "MrK3aZMGIZ-Y"
      },
      "source": [
        "2. Write a python code to replace all  \"a\"  with 2 for the given variable\n",
        "s = 'abc12321cba'"
      ]
    },
    {
      "cell_type": "code",
      "execution_count": 8,
      "metadata": {
        "id": "J7rr7O5XIZ-Z",
        "colab": {
          "base_uri": "https://localhost:8080/"
        },
        "outputId": "07e83d84-92f9-4b62-f889-80e8848d27a0"
      },
      "outputs": [
        {
          "output_type": "stream",
          "name": "stdout",
          "text": [
            "2bc12321cb2\n"
          ]
        }
      ],
      "source": [
        "s='abc12321cba'\n",
        "for i in s:\n",
        "  if i=='a':\n",
        "    s=s.replace(i, '2')\n",
        "print(s)"
      ]
    },
    {
      "cell_type": "markdown",
      "metadata": {
        "id": "Zo8gMGlbIZ-g"
      },
      "source": [
        "3. Python code for to  remove first character in string?"
      ]
    },
    {
      "cell_type": "code",
      "execution_count": 16,
      "metadata": {
        "id": "XTIKmVpiIZ-h",
        "colab": {
          "base_uri": "https://localhost:8080/"
        },
        "outputId": "fe8dea48-f5c0-444a-b714-15772bf7c672"
      },
      "outputs": [
        {
          "output_type": "stream",
          "name": "stdout",
          "text": [
            "selvi\n",
            "elvi\n"
          ]
        }
      ],
      "source": [
        "s=input()\n",
        "s=s[1:]\n",
        "print(s)\n"
      ]
    },
    {
      "cell_type": "markdown",
      "metadata": {
        "id": "XBhfFfEIIZ-n"
      },
      "source": [
        "4. Concatenate two strings  \n",
        "First Input : \"hello\"\n",
        "Second Input : \"guvi\"\n",
        "desired output :   \"hello guvi\""
      ]
    },
    {
      "cell_type": "code",
      "execution_count": 20,
      "metadata": {
        "id": "qVhNDe9mIZ-p",
        "colab": {
          "base_uri": "https://localhost:8080/"
        },
        "outputId": "5857e5c5-c4f8-43de-8338-98b742e0b8f5"
      },
      "outputs": [
        {
          "output_type": "stream",
          "name": "stdout",
          "text": [
            "hello\n",
            "guvi\n",
            "hello guvi\n"
          ]
        }
      ],
      "source": [
        "First_input=input()\n",
        "Second_input=input()\n",
        "desired_output=\" \".join([First_input, Second_input])\n",
        "print(desired_output)"
      ]
    },
    {
      "cell_type": "markdown",
      "metadata": {
        "id": "W1CyejMTIZ-t"
      },
      "source": [
        "5. Repeat the string \"hello guvi\" 3 times\n",
        "desired output :  'hello guvi hello guvi hello guvi '"
      ]
    },
    {
      "cell_type": "code",
      "execution_count": 28,
      "metadata": {
        "id": "6B83XYHVIZ-u",
        "colab": {
          "base_uri": "https://localhost:8080/"
        },
        "outputId": "2bc9044c-b02b-4303-dca2-04b5b765ca6a"
      },
      "outputs": [
        {
          "output_type": "stream",
          "name": "stdout",
          "text": [
            "hello guvi\n",
            "hello guvi hello guvi hello guvi "
          ]
        }
      ],
      "source": [
        "string=input()\n",
        "for i in range(3):\n",
        "  print(string, end=' ')"
      ]
    },
    {
      "cell_type": "markdown",
      "metadata": {
        "id": "4oblWnrSIZ-y"
      },
      "source": [
        "6. Create 3 variables a1,a2,a3. Assign the same value \" 4 \" to all the variables in a single line of code."
      ]
    },
    {
      "cell_type": "code",
      "execution_count": 31,
      "metadata": {
        "id": "O7nH3nd-IZ-y",
        "colab": {
          "base_uri": "https://localhost:8080/"
        },
        "outputId": "35a1914c-dffc-440d-deb1-45986f90b7ad"
      },
      "outputs": [
        {
          "output_type": "stream",
          "name": "stdout",
          "text": [
            "4 4 4\n"
          ]
        }
      ],
      "source": [
        "a1, a2, a3 = 4, 4, 4\n",
        "print(a1, a2, a3)"
      ]
    },
    {
      "cell_type": "markdown",
      "metadata": {
        "id": "fs_t4D-oIZ-2"
      },
      "source": [
        "7. Calculate BMI of a person using the height and weight.\n",
        "BMI = weight / (height **2)\n"
      ]
    },
    {
      "cell_type": "code",
      "execution_count": 35,
      "metadata": {
        "id": "N_VZSoYjIZ-3",
        "colab": {
          "base_uri": "https://localhost:8080/"
        },
        "outputId": "a3f3aa54-7f40-4bc1-fc95-b6ae1d3dff6f"
      },
      "outputs": [
        {
          "output_type": "stream",
          "name": "stdout",
          "text": [
            "100\n",
            "1.63\n",
            "37.63784862057285\n"
          ]
        }
      ],
      "source": [
        "weight=float(input())\n",
        "height=float(input())\n",
        "BMI=weight/(height**2)\n",
        "print(BMI)"
      ]
    },
    {
      "cell_type": "markdown",
      "metadata": {
        "id": "JgXK2m28IZ-7"
      },
      "source": [
        "8.Write a python program to calculate the area of circle."
      ]
    },
    {
      "cell_type": "code",
      "execution_count": 37,
      "metadata": {
        "id": "m73v7qoCIZ-8",
        "colab": {
          "base_uri": "https://localhost:8080/"
        },
        "outputId": "a2c018fc-c2ae-4da1-ad25-868cc99d48c4"
      },
      "outputs": [
        {
          "output_type": "stream",
          "name": "stdout",
          "text": [
            "7\n",
            "154.0\n"
          ]
        }
      ],
      "source": [
        "radius=float(input())\n",
        "pi=22/7\n",
        "circle_area = pi * radius **2\n",
        "print(circle_area)"
      ]
    },
    {
      "cell_type": "markdown",
      "metadata": {
        "id": "BHXFt9VwIZ_A"
      },
      "source": [
        "9.Calculate the simple interest\n",
        "simple_interest = p * n * r /100"
      ]
    },
    {
      "cell_type": "code",
      "execution_count": 38,
      "metadata": {
        "id": "7wHLjXC4IZ_B",
        "colab": {
          "base_uri": "https://localhost:8080/"
        },
        "outputId": "15180c64-df1f-47ca-ad9a-eb7d912bdb25"
      },
      "outputs": [
        {
          "output_type": "stream",
          "name": "stdout",
          "text": [
            "10000\n",
            "3\n",
            "5\n",
            "1500.0\n"
          ]
        }
      ],
      "source": [
        "p=float(input())\n",
        "n=int(input())\n",
        "r=int(input())\n",
        "si=p*n*r/100\n",
        "print(si)"
      ]
    },
    {
      "cell_type": "markdown",
      "metadata": {
        "id": "afLADSCGIZ_G"
      },
      "source": [
        "10.Python code to calculate the square root of the given number(run time variable)"
      ]
    },
    {
      "cell_type": "code",
      "execution_count": 40,
      "metadata": {
        "id": "XBTku4euIZ_H",
        "colab": {
          "base_uri": "https://localhost:8080/"
        },
        "outputId": "56515bbc-5a52-44da-ac5a-fcb97d2d5724"
      },
      "outputs": [
        {
          "output_type": "stream",
          "name": "stdout",
          "text": [
            "30\n",
            "5.477225575051661\n"
          ]
        }
      ],
      "source": [
        "num=float(input())\n",
        "sqrt=num**(0.5)\n",
        "print(sqrt)"
      ]
    },
    {
      "cell_type": "code",
      "source": [],
      "metadata": {
        "id": "oHlG2usHudts"
      },
      "execution_count": null,
      "outputs": []
    }
  ],
  "metadata": {
    "colab": {
      "provenance": []
    },
    "kernelspec": {
      "display_name": "Python 3 (ipykernel)",
      "language": "python",
      "name": "python3"
    },
    "language_info": {
      "codemirror_mode": {
        "name": "ipython",
        "version": 3
      },
      "file_extension": ".py",
      "mimetype": "text/x-python",
      "name": "python",
      "nbconvert_exporter": "python",
      "pygments_lexer": "ipython3",
      "version": "3.9.13"
    }
  },
  "nbformat": 4,
  "nbformat_minor": 0
}