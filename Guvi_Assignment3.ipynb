{
  "nbformat": 4,
  "nbformat_minor": 0,
  "metadata": {
    "colab": {
      "provenance": [],
      "authorship_tag": "ABX9TyNSn3IKVD+j17jxCfKOhOiJ"
    },
    "kernelspec": {
      "name": "python3",
      "display_name": "Python 3"
    },
    "language_info": {
      "name": "python"
    }
  },
  "cells": [
    {
      "cell_type": "markdown",
      "source": [
        "IF Statement\n",
        "Problems:\n",
        "1.\tWrite a program to check whether x is less than y\n",
        "where, x = 20 and y = 30\n",
        "Assigning x equal to 20 Assigning y equal to 30 If condition x is less then y then go to step 4 print x is less then y\n"
      ],
      "metadata": {
        "id": "B4jKcxMG9wCV"
      }
    },
    {
      "cell_type": "code",
      "source": [
        "x=20\n",
        "y=30\n",
        "if x<y:\n",
        "\tprint(x, 'is less than', y)\n",
        "else:\n",
        "\tprint(y, 'is less than are equal to', x)\n"
      ],
      "metadata": {
        "colab": {
          "base_uri": "https://localhost:8080/"
        },
        "id": "IefS9vAe9x30",
        "outputId": "d817f3ab-aadd-42cb-a0be-c49496419457"
      },
      "execution_count": 1,
      "outputs": [
        {
          "output_type": "stream",
          "name": "stdout",
          "text": [
            "20 is less than 30\n"
          ]
        }
      ]
    },
    {
      "cell_type": "markdown",
      "source": [
        "2.\tWrite a program to check whether the total score (theory --> 100 + practical --> 100) is less than or equal to 200. If it goes beyond 200, print an error or a warning message.\n",
        "Hint:\n",
        "Set, Theory equal to 140 Practical equal to 145 If condition for theory + practical is greater than 200 then, print invalid score\n"
      ],
      "metadata": {
        "id": "GPuepA-F-CGz"
      }
    },
    {
      "cell_type": "code",
      "source": [
        "Theory=140\n",
        "Practical=145\n",
        "Total=Theory+Practical\n",
        "if Total>200:\n",
        "  print(\"Invalid Score\")\n",
        "else:\n",
        "  print(Total)"
      ],
      "metadata": {
        "colab": {
          "base_uri": "https://localhost:8080/"
        },
        "id": "3GRlvfJD9z-z",
        "outputId": "dca93949-fcb6-41cc-8b3a-3bf775ac265a"
      },
      "execution_count": 2,
      "outputs": [
        {
          "output_type": "stream",
          "name": "stdout",
          "text": [
            "Invalid Score\n"
          ]
        }
      ]
    },
    {
      "cell_type": "markdown",
      "source": [
        "If-else Statement\n",
        "3.\tWrite a python program to to check whether the student has passed the subject based on string input yes/no\n",
        "Hint:\n",
        "Get an user input 'yes' / 'no' pass this to variable named 'Subject' Create a If condition, when the Subject value is 'yes' then print 'Cleared the test', Else print 'Failed the test'\n"
      ],
      "metadata": {
        "id": "_d24zQxo-xxB"
      }
    },
    {
      "cell_type": "code",
      "source": [
        "Subject=input(\"Enter the subject value YES/NO: \")\n",
        "Subject = Subject.lower()\n",
        "if Subject!=\"yes\" and Subject!='no':\n",
        "  print(\"Enter 'YES' or 'NO' only\")\n",
        "elif Subject==\"yes\":\n",
        "  print(\"Cleared the test\")\n",
        "else:\n",
        "  print(\"Failed the test\")\n"
      ],
      "metadata": {
        "colab": {
          "base_uri": "https://localhost:8080/"
        },
        "id": "v12Dv1q_-1Kk",
        "outputId": "ac878eef-2b60-4eac-a7f6-b821e7ff8d1b"
      },
      "execution_count": 3,
      "outputs": [
        {
          "output_type": "stream",
          "name": "stdout",
          "text": [
            "Enter the subject value YES/NO: yes\n",
            "Cleared the test\n"
          ]
        }
      ]
    },
    {
      "cell_type": "markdown",
      "source": [
        "4.\tWrite a program to get the password from user, check whether the password is 'great'. Through a reply to the user accordingly.\n",
        "Hint:\n",
        "Get password from user, the input statement should be 'Enter the password: ' pass this to variable named 'Password' If passwrod is 'great', print 'Password Accepted' else print 'Wrong Password'\n"
      ],
      "metadata": {
        "id": "zDkVuYHTAxyZ"
      }
    },
    {
      "cell_type": "code",
      "source": [
        "password=input(\"Enter the password: \")\n",
        "if password== \"great\":\n",
        "  print(\"Password Accepted\")\n",
        "else:\n",
        "  print(\"Wrong Password\")\n"
      ],
      "metadata": {
        "colab": {
          "base_uri": "https://localhost:8080/"
        },
        "id": "5NLEuySR-3_j",
        "outputId": "990b8750-ebbf-41da-96dd-37ee0b44f240"
      },
      "execution_count": 4,
      "outputs": [
        {
          "output_type": "stream",
          "name": "stdout",
          "text": [
            "Enter the password: good\n",
            "Wrong Password\n"
          ]
        }
      ]
    },
    {
      "cell_type": "markdown",
      "source": [
        "Nested if Statement\n",
        "1.\tBased on the users age, divide them in to three groups Group 1 : Age <=18 , Minors who are not eligible to work Group 2 : 18<Age<60 , ELigible to work Group 3 : >=60, Too old to work as per govt. regulations.\n",
        "Write a program for the same\n",
        "Hint:\n",
        "Create variable Name age equal to input if condition for age is < 18 go to step 3 , else go to step 5 print Your Minor not Eligible to Work if condition for age >= 18 and age <= 60 go to step 5 , else go to step 6 print Your Eligible to Work fill in your details and apply print Your too old to work as per the Government rules Please Collect your pension\n"
      ],
      "metadata": {
        "id": "GAk9ozKMA7tC"
      }
    },
    {
      "cell_type": "code",
      "source": [
        "age=int(input())\n",
        "if age<18:\n",
        "  print(\"You are Minor. Not elgible for work\")\n",
        "elif 18<=age<=60:\n",
        "  print(\"You are eligible for work\")\n",
        "else:\n",
        "  print(\"You are too old to work as per the Government rules. Please Collect your pension\")\n"
      ],
      "metadata": {
        "colab": {
          "base_uri": "https://localhost:8080/"
        },
        "id": "O4fwABlbA2rq",
        "outputId": "cb2ce1bc-4068-4586-b09a-9c88f986c1ca"
      },
      "execution_count": 5,
      "outputs": [
        {
          "output_type": "stream",
          "name": "stdout",
          "text": [
            "65\n",
            "You are too old to work as per the Government rules. Please Collect your pension\n"
          ]
        }
      ]
    },
    {
      "cell_type": "markdown",
      "source": [
        "While Loop\n",
        "1.\tTake an integer as input from the user and print all the numbers from 0 to that number in reverse order.\n",
        "Example : if the input is 3, the output should be 3 2 1\n",
        "Hint:\n",
        "Create variable n using input value give the while loop condition i.e. n > 0 then decrement, n = n-1 print n\n"
      ],
      "metadata": {
        "id": "tT1gTiheBEYR"
      }
    },
    {
      "cell_type": "code",
      "source": [
        "n = int(input())\n",
        "list1 = []\n",
        "while n > 0:\n",
        "    list1.append(n)\n",
        "    n -= 1\n",
        "print(*list1)"
      ],
      "metadata": {
        "colab": {
          "base_uri": "https://localhost:8080/"
        },
        "id": "d799mJQ4BAbW",
        "outputId": "dbff449c-ee36-4554-902e-49d52a8945bd"
      },
      "execution_count": 6,
      "outputs": [
        {
          "output_type": "stream",
          "name": "stdout",
          "text": [
            "10\n",
            "10 9 8 7 6 5 4 3 2 1\n"
          ]
        }
      ]
    },
    {
      "cell_type": "markdown",
      "source": [
        "2.\tWrite a python code to find the squares of all the numbers based on an input.\n",
        "Example : If the input is 10, the output should be 11 ,22 ,33...... 1010\n",
        "Hint:\n",
        "Create the variable i assigning to 1 Give the while loop condition for i <= 10 print i ** 2 increment i loop will execute until i is less than or equal to 10\n"
      ],
      "metadata": {
        "id": "TaZCVitXBxkW"
      }
    },
    {
      "cell_type": "code",
      "source": [
        "n = int(input())\n",
        "i=1\n",
        "while i<=n:\n",
        "\tprint(i**2)\n",
        "\ti+=1\n"
      ],
      "metadata": {
        "colab": {
          "base_uri": "https://localhost:8080/"
        },
        "id": "MQzD1W5dBJY1",
        "outputId": "0f8bde7c-8710-422f-80a1-0d7f5f2723a8"
      },
      "execution_count": 7,
      "outputs": [
        {
          "output_type": "stream",
          "name": "stdout",
          "text": [
            "12\n",
            "1\n",
            "4\n",
            "9\n",
            "16\n",
            "25\n",
            "36\n",
            "49\n",
            "64\n",
            "81\n",
            "100\n",
            "121\n",
            "144\n"
          ]
        }
      ]
    },
    {
      "cell_type": "markdown",
      "source": [
        "For Loop\n",
        "1.\tWrite a pseudocode to print the multiplication table of a given number.\n",
        "Example : if the user input is 3, the output should be like below :\n",
        "3 X 1 = 3 3 X 2 = 6 ... 3 X 10 =30\n",
        "Hint:\n",
        "Get user input and store it in variable n. Give the For loop condition in the range between (1,11) In print statement give the condition (n,'x',i,'=' ,n*i) This will print the multiplication tables of a given number.\n"
      ],
      "metadata": {
        "id": "djU_NDIjCBpI"
      }
    },
    {
      "cell_type": "code",
      "source": [
        "n = int(input())\n",
        "print('Multiplication table for', n)\n",
        "for i in range(1,11):\n",
        "\tprint(n,\"x\",i,\"=\", n*i)\n"
      ],
      "metadata": {
        "colab": {
          "base_uri": "https://localhost:8080/"
        },
        "id": "ypzgu5L9B6A7",
        "outputId": "a1f6e475-0250-472a-9108-4a603652bbdf"
      },
      "execution_count": 8,
      "outputs": [
        {
          "output_type": "stream",
          "name": "stdout",
          "text": [
            "4\n",
            "Multiplication table for 4\n",
            "4 x 1 = 4\n",
            "4 x 2 = 8\n",
            "4 x 3 = 12\n",
            "4 x 4 = 16\n",
            "4 x 5 = 20\n",
            "4 x 6 = 24\n",
            "4 x 7 = 28\n",
            "4 x 8 = 32\n",
            "4 x 9 = 36\n",
            "4 x 10 = 40\n"
          ]
        }
      ]
    },
    {
      "cell_type": "markdown",
      "source": [
        "2.\tWrite a python code to print squares of all numbers present in the list = [1, 22, 14, 64, 31, 120]\n",
        "Hint:\n",
        "Create a list named 'numbers' [1, 22, 14, 64, 31, 120] Create a variable name 'square' and assign 0 to it For loop condition for i in the list square equal to i * i\n",
        "Print square\n"
      ],
      "metadata": {
        "id": "f_iNmWInCQqd"
      }
    },
    {
      "cell_type": "code",
      "source": [
        "numbers = [1, 22, 14, 64, 31, 120]\n",
        "\n",
        "for i in numbers:\n",
        "    square = i * i\n",
        "    print(square)"
      ],
      "metadata": {
        "colab": {
          "base_uri": "https://localhost:8080/"
        },
        "id": "ioTWLblPCMsN",
        "outputId": "3f494c1d-28f8-42b1-f80c-e3cb7b175e6d"
      },
      "execution_count": 9,
      "outputs": [
        {
          "output_type": "stream",
          "name": "stdout",
          "text": [
            "1\n",
            "484\n",
            "196\n",
            "4096\n",
            "961\n",
            "14400\n"
          ]
        }
      ]
    },
    {
      "cell_type": "markdown",
      "source": [
        "Additional Practice Programs\n",
        "1.\tWrite a python program that takes a list ['red','black','blue'] and prints each element in the list using whle loop\n"
      ],
      "metadata": {
        "id": "yZHgC1F8DF-V"
      }
    },
    {
      "cell_type": "code",
      "source": [
        "Colors=[\"red\", \"black\", \"blue\"]\n",
        "i=0\n",
        "while i<len(Colors):\n",
        "\tprint(Colors[i])\n",
        "\ti+=1\n"
      ],
      "metadata": {
        "colab": {
          "base_uri": "https://localhost:8080/"
        },
        "id": "L6rsHY5eC7dR",
        "outputId": "3051223f-ab14-4575-ad34-8f84979e7f89"
      },
      "execution_count": 10,
      "outputs": [
        {
          "output_type": "stream",
          "name": "stdout",
          "text": [
            "red\n",
            "black\n",
            "blue\n"
          ]
        }
      ]
    },
    {
      "cell_type": "markdown",
      "source": [
        "2.\tWrite a same program as above using a For loop?"
      ],
      "metadata": {
        "id": "D7ocM8SlDOAC"
      }
    },
    {
      "cell_type": "code",
      "source": [
        "Colors=[\"red\", \"black\", \"blue\"]\n",
        "for i in Colors:\n",
        "\tprint(i)"
      ],
      "metadata": {
        "colab": {
          "base_uri": "https://localhost:8080/"
        },
        "id": "-4fpCcWyDQhi",
        "outputId": "e38d2339-f652-4082-f3c5-98472fea21d3"
      },
      "execution_count": 11,
      "outputs": [
        {
          "output_type": "stream",
          "name": "stdout",
          "text": [
            "red\n",
            "black\n",
            "blue\n"
          ]
        }
      ]
    },
    {
      "cell_type": "markdown",
      "source": [
        "3.\tWrite a Python Program to find the LCM of two numbers?"
      ],
      "metadata": {
        "id": "RUebYt1qDT5E"
      }
    },
    {
      "cell_type": "code",
      "source": [
        "m, n = map(int, input(\"Enter the two integers: \").split())\n",
        "a = max(m, n)\n",
        "\n",
        "while True:\n",
        "    if a % m == 0 and a % n == 0:\n",
        "        break\n",
        "    a += 1\n",
        "print(a)"
      ],
      "metadata": {
        "colab": {
          "base_uri": "https://localhost:8080/"
        },
        "id": "IFnvdzgQDVxk",
        "outputId": "86360b59-912a-4494-e9e6-a9b04274334c"
      },
      "execution_count": 12,
      "outputs": [
        {
          "output_type": "stream",
          "name": "stdout",
          "text": [
            "Enter the two integers: 18 91\n",
            "1638\n"
          ]
        }
      ]
    },
    {
      "cell_type": "markdown",
      "source": [
        "4.\tPython Program to find the sum of series: 1 + 1/2 + 1/3 + ….. + 1/N."
      ],
      "metadata": {
        "id": "X3d0ulKaDpWR"
      }
    },
    {
      "cell_type": "code",
      "source": [
        "n=int(input())\n",
        "Sum_of_series=0\n",
        "for i in range(1, n+1):\n",
        "\tSum_of_series+=(1/i)\n",
        "print(round(Sum_of_series, 2))"
      ],
      "metadata": {
        "colab": {
          "base_uri": "https://localhost:8080/"
        },
        "id": "guVYgKnYDnrt",
        "outputId": "7b9940e9-b1dd-45e7-9905-2ef123cec1e1"
      },
      "execution_count": 13,
      "outputs": [
        {
          "output_type": "stream",
          "name": "stdout",
          "text": [
            "10\n",
            "2.93\n"
          ]
        }
      ]
    },
    {
      "cell_type": "markdown",
      "source": [
        "List Comprehensions\n",
        "1.\ti. Write a Python program to get the squares of numbers present in the range of (1-10)\n",
        "●\toutput squares = [0, 1, 4, 9, 16, 25, 36, 49, 64, 81, 100]\n"
      ],
      "metadata": {
        "id": "CM_Om7jiD60g"
      }
    },
    {
      "cell_type": "code",
      "source": [
        "Square_list=[]\n",
        "for i in range(11):\n",
        "\tSquare_list.append(i**2)\n",
        "print(Square_list)\n"
      ],
      "metadata": {
        "colab": {
          "base_uri": "https://localhost:8080/"
        },
        "id": "rf62TjI2D3cL",
        "outputId": "24c43980-6ab2-4db8-f494-8a3bc111abad"
      },
      "execution_count": 14,
      "outputs": [
        {
          "output_type": "stream",
          "name": "stdout",
          "text": [
            "[0, 1, 4, 9, 16, 25, 36, 49, 64, 81, 100]\n"
          ]
        }
      ]
    },
    {
      "cell_type": "markdown",
      "source": [
        "ii. For the same question get the desired output using List Comprehension"
      ],
      "metadata": {
        "id": "QtRaOyQMEFH-"
      }
    },
    {
      "cell_type": "code",
      "source": [
        "Square_list=[x**2 for x in range(11)]\n",
        "print(Square_list)"
      ],
      "metadata": {
        "colab": {
          "base_uri": "https://localhost:8080/"
        },
        "id": "3RkncKuqEBYG",
        "outputId": "b1d51f38-7d14-44f4-e500-96d5b8c309fc"
      },
      "execution_count": 15,
      "outputs": [
        {
          "output_type": "stream",
          "name": "stdout",
          "text": [
            "[0, 1, 4, 9, 16, 25, 36, 49, 64, 81, 100]\n"
          ]
        }
      ]
    },
    {
      "cell_type": "markdown",
      "source": [
        "2.\tConvert a list of integers to a list of strings, using List comprehension"
      ],
      "metadata": {
        "id": "1VFbZh9gEK_p"
      }
    },
    {
      "cell_type": "code",
      "source": [
        "Number_list=[1,2,3,4,5,6,7,8,9,10]\n",
        "String_list=[str(x) for x in Number_list]\n",
        "print(String_list)"
      ],
      "metadata": {
        "colab": {
          "base_uri": "https://localhost:8080/"
        },
        "id": "U3Devc-XEJiw",
        "outputId": "c62e57f0-984e-4896-d041-c75b667963ce"
      },
      "execution_count": 16,
      "outputs": [
        {
          "output_type": "stream",
          "name": "stdout",
          "text": [
            "['1', '2', '3', '4', '5', '6', '7', '8', '9', '10']\n"
          ]
        }
      ]
    },
    {
      "cell_type": "markdown",
      "source": [
        "3.\tCreate tuples from two lists using List Comprehensions\n",
        "Hint: list1 =[0,1] list2 =['zero','one']\n",
        "Output: [(0, 'zero'), (0, 'one'), (1, 'zero'), (1, 'one')]\n"
      ],
      "metadata": {
        "id": "XisM4yOYERn4"
      }
    },
    {
      "cell_type": "code",
      "source": [
        "List1 = [0, 1]\n",
        "List2 = [\"zero\", \"one\"]\n",
        "List3 = [(x,y) for x in List1 for y in List2]\n",
        "print(List3)"
      ],
      "metadata": {
        "colab": {
          "base_uri": "https://localhost:8080/"
        },
        "id": "VWrsZsilETvh",
        "outputId": "9c03e951-7e33-4d9c-bbaf-863d70101743"
      },
      "execution_count": 17,
      "outputs": [
        {
          "output_type": "stream",
          "name": "stdout",
          "text": [
            "[(0, 'zero'), (0, 'one'), (1, 'zero'), (1, 'one')]\n"
          ]
        }
      ]
    },
    {
      "cell_type": "markdown",
      "source": [
        "4.\tGet Index of Each Element of List using enumerate in List Comprehension\n"
      ],
      "metadata": {
        "id": "vsmgfE6BEXlX"
      }
    },
    {
      "cell_type": "code",
      "source": [
        "list1=['rose', 'lily', 'lotus', 'jasmine']\n",
        "index_list=[(index, value) for  index, value in enumerate(list1)]\n",
        "print(index_list)"
      ],
      "metadata": {
        "colab": {
          "base_uri": "https://localhost:8080/"
        },
        "id": "vxL-f9C5EZxd",
        "outputId": "e90e73cc-f7bb-465b-f4b4-d31328fd8489"
      },
      "execution_count": 18,
      "outputs": [
        {
          "output_type": "stream",
          "name": "stdout",
          "text": [
            "[(0, 'rose'), (1, 'lily'), (2, 'lotus'), (3, 'jasmine')]\n"
          ]
        }
      ]
    }
  ]
}