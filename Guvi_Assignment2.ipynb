{
  "nbformat": 4,
  "nbformat_minor": 0,
  "metadata": {
    "colab": {
      "provenance": [],
      "authorship_tag": "ABX9TyPFpuDKPZa29XT/aH5qlluF"
    },
    "kernelspec": {
      "name": "python3",
      "display_name": "Python 3"
    },
    "language_info": {
      "name": "python"
    }
  },
  "cells": [
    {
      "cell_type": "markdown",
      "source": [
        "\n",
        "# Python List:\n",
        "1. Create your own lists otherwise use the List1 = ['hello','GUVI','GEEK']  to perform the below Python list  Operations?\n",
        "   A. Repetition (*)\n",
        "   B. Concatenation (+)\n",
        "   C. Membership\n",
        "   D. Length\n",
        "   E. Iteration\n",
        "  \n",
        "**1. A. Repetition:**\n"
      ],
      "metadata": {
        "id": "M_iLrtSe7fQk"
      }
    },
    {
      "cell_type": "code",
      "source": [
        "List1=['Selvi', 'Shravann','Kimchi', 'Mrinal']\n",
        "print(List1*2)"
      ],
      "metadata": {
        "colab": {
          "base_uri": "https://localhost:8080/"
        },
        "id": "n9Rp3Erg7mRp",
        "outputId": "87d593ea-4bdd-4b13-9d5a-b9aac1f7f926"
      },
      "execution_count": 1,
      "outputs": [
        {
          "output_type": "stream",
          "name": "stdout",
          "text": [
            "['Selvi', 'Shravann', 'Kimchi', 'Mrinal', 'Selvi', 'Shravann', 'Kimchi', 'Mrinal']\n"
          ]
        }
      ]
    },
    {
      "cell_type": "markdown",
      "source": [
        "**1.B. Concatenation (+):**"
      ],
      "metadata": {
        "id": "8utFZHr38Bgp"
      }
    },
    {
      "cell_type": "code",
      "source": [
        "List1=['Selvi', 'Shravann','Kimchi', 'Mrinal']\n",
        "List2=['Chandru', 'Subash', 'Sankar']\n",
        "print(List1+List2)"
      ],
      "metadata": {
        "colab": {
          "base_uri": "https://localhost:8080/"
        },
        "id": "GNUPZvvt72Kb",
        "outputId": "3f81430b-f1d7-4395-fc48-6078ea7a2bf3"
      },
      "execution_count": 2,
      "outputs": [
        {
          "output_type": "stream",
          "name": "stdout",
          "text": [
            "['Selvi', 'Shravann', 'Kimchi', 'Mrinal', 'Chandru', 'Subash', 'Sankar']\n"
          ]
        }
      ]
    },
    {
      "cell_type": "markdown",
      "source": [
        "**1.C. Membership:**"
      ],
      "metadata": {
        "id": "1FKVXv_48Vtq"
      }
    },
    {
      "cell_type": "code",
      "source": [
        "print('Selvi' in List1)"
      ],
      "metadata": {
        "colab": {
          "base_uri": "https://localhost:8080/"
        },
        "id": "cHlGxZLL80_2",
        "outputId": "c824f217-129e-44f7-9c03-e368348b9d85"
      },
      "execution_count": 3,
      "outputs": [
        {
          "output_type": "stream",
          "name": "stdout",
          "text": [
            "True\n"
          ]
        }
      ]
    },
    {
      "cell_type": "code",
      "source": [
        "print('Chandru' in List1)"
      ],
      "metadata": {
        "colab": {
          "base_uri": "https://localhost:8080/"
        },
        "id": "SuI_KPpA85UJ",
        "outputId": "818b2f0c-a389-4079-9e83-df5ad4e0bfe4"
      },
      "execution_count": 4,
      "outputs": [
        {
          "output_type": "stream",
          "name": "stdout",
          "text": [
            "False\n"
          ]
        }
      ]
    },
    {
      "cell_type": "markdown",
      "source": [
        "**1.D. Length:**"
      ],
      "metadata": {
        "id": "ATn-8lXW9CHv"
      }
    },
    {
      "cell_type": "code",
      "source": [
        "print(len(List1), len(List2), sep=\",\")"
      ],
      "metadata": {
        "colab": {
          "base_uri": "https://localhost:8080/"
        },
        "id": "RVCEdxLC88FM",
        "outputId": "3306ed7f-9f4d-4e51-8a30-5e27db6b8a68"
      },
      "execution_count": 5,
      "outputs": [
        {
          "output_type": "stream",
          "name": "stdout",
          "text": [
            "4,3\n"
          ]
        }
      ]
    },
    {
      "cell_type": "markdown",
      "source": [
        "**1.E. Iteration:**"
      ],
      "metadata": {
        "id": "SgTTIuVX9Q7l"
      }
    },
    {
      "cell_type": "code",
      "source": [
        "for name in List1:\n",
        "  print(name)"
      ],
      "metadata": {
        "colab": {
          "base_uri": "https://localhost:8080/"
        },
        "id": "PIgFFVOy9Ibi",
        "outputId": "0c631c9d-305b-4212-b1c7-dea2e8c5ca4d"
      },
      "execution_count": 6,
      "outputs": [
        {
          "output_type": "stream",
          "name": "stdout",
          "text": [
            "Selvi\n",
            "Shravann\n",
            "Kimchi\n",
            "Mrinal\n"
          ]
        }
      ]
    },
    {
      "cell_type": "markdown",
      "source": [
        "2.1. Create your own lists to perform the below Python List Built-in functions?\n",
        "otherwise use the\n",
        "                   List1 = [15, 300, 2700, 821]\n",
        "                   List2 = [12, 2]\n",
        "                   List3 = [34, 567, 78]\n",
        "   A.  max(list)    \n",
        "   B.  min(list)    \n",
        "   C.  list(seq)      \n",
        "**2.A)  max():**\n"
      ],
      "metadata": {
        "id": "iNd6XtM39gJ_"
      }
    },
    {
      "cell_type": "code",
      "source": [
        "List1 = [15, 300, 2700, 821]\n",
        "List2 = [12, 2]\n",
        "List3 = [34, 567, 78]"
      ],
      "metadata": {
        "id": "j1fMoy2-9d-c"
      },
      "execution_count": 7,
      "outputs": []
    },
    {
      "cell_type": "code",
      "source": [
        "print(max(List1))"
      ],
      "metadata": {
        "colab": {
          "base_uri": "https://localhost:8080/"
        },
        "id": "5akYSXug9s9f",
        "outputId": "8aad1b2c-9d0f-466d-febc-d88fc36ea9cd"
      },
      "execution_count": 8,
      "outputs": [
        {
          "output_type": "stream",
          "name": "stdout",
          "text": [
            "2700\n"
          ]
        }
      ]
    },
    {
      "cell_type": "markdown",
      "source": [
        "**2.B) min():**"
      ],
      "metadata": {
        "id": "XFMRT42n_MvA"
      }
    },
    {
      "cell_type": "code",
      "source": [
        "print(min(List2))"
      ],
      "metadata": {
        "colab": {
          "base_uri": "https://localhost:8080/"
        },
        "id": "vwpCaFsO9v5h",
        "outputId": "c7f19835-cb96-4eb2-bb1b-8d1d03e35ecf"
      },
      "execution_count": 9,
      "outputs": [
        {
          "output_type": "stream",
          "name": "stdout",
          "text": [
            "2\n"
          ]
        }
      ]
    },
    {
      "cell_type": "markdown",
      "source": [
        "**2.C) list:**\n"
      ],
      "metadata": {
        "id": "OajYU_zK_WlS"
      }
    },
    {
      "cell_type": "code",
      "source": [
        "seq = (1, 2, 3, 4, 5)\n",
        "print(list(seq))"
      ],
      "metadata": {
        "colab": {
          "base_uri": "https://localhost:8080/"
        },
        "id": "mcdMv9Ke_QH5",
        "outputId": "9b166603-4525-459d-b0bb-2eb07578062d"
      },
      "execution_count": 10,
      "outputs": [
        {
          "output_type": "stream",
          "name": "stdout",
          "text": [
            "[1, 2, 3, 4, 5]\n"
          ]
        }
      ]
    },
    {
      "cell_type": "markdown",
      "source": [
        "\n",
        "3. Create your own lists to perform the below Python List built-in methods\n",
        "   A.  list.append()\n",
        "   B.  list.clear()   \n",
        "   C.  List.copy()          \n",
        "   D.  list.count()         \n",
        "   E.  list.extend()    \n",
        "   F.  list.index()\n",
        "   G.  list.insert()  \n",
        "   H.  list.pop()\n",
        "   I.  list.remove()    \n",
        "   J.  list.reverse()         \n",
        "   K.  list.sort()  \n",
        "3.A) append:\n",
        "In [ ]:\n",
        "\n",
        "3.B) list.clear():\n",
        "In [ ]:\n",
        "\n",
        "3.C) List.copy()\n",
        "In [ ]:\n",
        "\n",
        "3. D) list.count(obj):\n",
        "In [ ]:\n",
        "\n",
        "3.E) list.extend(seq):\n",
        "In [ ]:\n",
        "\n",
        "3.F) list.index(obj):\n",
        "In [ ]:\n",
        "\n",
        "3.G) list.insert(index, obj):\n",
        "In [ ]:\n",
        "\n",
        "3.H) list.pop(obj=list[-1]):\n",
        "In [ ]:\n",
        "\n",
        "3.I) list.remove(obj):\n",
        "In [ ]:\n",
        "\n",
        "3.j) list.reverse():\n",
        "In [ ]:\n",
        "\n",
        "3.K) list.sort([func]):\n",
        "In [ ]:\n",
        "\n",
        "# Python Tuple\n",
        "Create your own Tuple to perform the below Python tuple Operations ?\n",
        "otherwise use the below\n",
        "               Tuple1 = ('a','b','c','d')\n",
        "               Tuple2 = ('e','f','g','h')\n",
        "1. Tuple Operations\n",
        "\n",
        "\n",
        "   A. Repetition (*)\n",
        "   B. Concatenation (+)\n",
        "   C. Membership\n",
        "   D. Length\n",
        "   E. Iteration\n",
        "   \n",
        "**1.A. Repetition:**\n"
      ],
      "metadata": {
        "id": "52XN8paC_gFg"
      }
    },
    {
      "cell_type": "code",
      "source": [
        "Tuple1 = ('a','b','c','d')\n",
        "Tuple2 = ('e','f','g','h')"
      ],
      "metadata": {
        "id": "OGIVtvtr_eIZ"
      },
      "execution_count": 11,
      "outputs": []
    },
    {
      "cell_type": "code",
      "source": [
        "print(Tuple1*3)"
      ],
      "metadata": {
        "colab": {
          "base_uri": "https://localhost:8080/"
        },
        "id": "CXADC5au_u3W",
        "outputId": "01ae54b6-42a6-46d3-a832-4cfbc27e0361"
      },
      "execution_count": 12,
      "outputs": [
        {
          "output_type": "stream",
          "name": "stdout",
          "text": [
            "('a', 'b', 'c', 'd', 'a', 'b', 'c', 'd', 'a', 'b', 'c', 'd')\n"
          ]
        }
      ]
    },
    {
      "cell_type": "markdown",
      "source": [
        "**1.B. Concatenation (+):**"
      ],
      "metadata": {
        "id": "YpGEMu4I_-Qy"
      }
    },
    {
      "cell_type": "code",
      "source": [
        "print(Tuple1+Tuple2)"
      ],
      "metadata": {
        "colab": {
          "base_uri": "https://localhost:8080/"
        },
        "id": "h9w4j-S8ABAj",
        "outputId": "4aca47a8-3185-442e-e4a3-63455b9e916a"
      },
      "execution_count": 13,
      "outputs": [
        {
          "output_type": "stream",
          "name": "stdout",
          "text": [
            "('a', 'b', 'c', 'd', 'e', 'f', 'g', 'h')\n"
          ]
        }
      ]
    },
    {
      "cell_type": "markdown",
      "source": [
        "**1.C) Membership:**"
      ],
      "metadata": {
        "id": "TWFUJkVRAFEv"
      }
    },
    {
      "cell_type": "code",
      "source": [
        "print('i' in Tuple1)"
      ],
      "metadata": {
        "colab": {
          "base_uri": "https://localhost:8080/"
        },
        "id": "s98E6ZArADip",
        "outputId": "e766bb87-14d8-4e05-8b8e-6d524cdafd1c"
      },
      "execution_count": 14,
      "outputs": [
        {
          "output_type": "stream",
          "name": "stdout",
          "text": [
            "False\n"
          ]
        }
      ]
    },
    {
      "cell_type": "code",
      "source": [
        "print('d' in Tuple1)"
      ],
      "metadata": {
        "colab": {
          "base_uri": "https://localhost:8080/"
        },
        "id": "yaOGNherALiF",
        "outputId": "beb81798-b4c7-419b-e06b-97c848445b11"
      },
      "execution_count": 15,
      "outputs": [
        {
          "output_type": "stream",
          "name": "stdout",
          "text": [
            "True\n"
          ]
        }
      ]
    },
    {
      "cell_type": "markdown",
      "source": [
        "**1.D) Length:**"
      ],
      "metadata": {
        "id": "xYDlJr-aAPiC"
      }
    },
    {
      "cell_type": "code",
      "source": [
        "print(len(Tuple1), len(Tuple2), sep=\",\")"
      ],
      "metadata": {
        "colab": {
          "base_uri": "https://localhost:8080/"
        },
        "id": "wa0lcmb3AOcm",
        "outputId": "8261095c-1ba4-4a57-ccef-df323ee69f5f"
      },
      "execution_count": 16,
      "outputs": [
        {
          "output_type": "stream",
          "name": "stdout",
          "text": [
            "4,4\n"
          ]
        }
      ]
    },
    {
      "cell_type": "markdown",
      "source": [
        "**1.E) Iteration:**"
      ],
      "metadata": {
        "id": "HCZOx92QAdFU"
      }
    },
    {
      "cell_type": "code",
      "source": [
        "for alphapet in Tuple1:\n",
        "  print(alphapet, end=\" \")"
      ],
      "metadata": {
        "colab": {
          "base_uri": "https://localhost:8080/"
        },
        "id": "0Q7UukfPAV-A",
        "outputId": "4ec10398-7ea3-442a-b8b0-e94f0bee5bb9"
      },
      "execution_count": 17,
      "outputs": [
        {
          "output_type": "stream",
          "name": "stdout",
          "text": [
            "a b c d "
          ]
        }
      ]
    },
    {
      "cell_type": "markdown",
      "source": [
        "\n",
        "2.Create your own Tuple to perform the below Python tuple inbuilt functions ?\n",
        "otherwise use the below\n",
        "           Tuple1 = (1,4,2,4,5,6,3,5,4,6,77,8,7,7,876,89,8765,4,5,1,876,9,3456,4234)\n",
        "       \n",
        "        A. max(Tuple)   \n",
        "        B. min(Tuple)     \n",
        "        C. Tuple(seq)     \n",
        "**2.A) max():**\n"
      ],
      "metadata": {
        "id": "bW_8MrDHmeNC"
      }
    },
    {
      "cell_type": "code",
      "source": [
        "Tuple1 = (1,4,2,4,5,6,3,5,4,6,77,8,7,7,876,89,8765,4,5,1,876,9,3456,4234)\n",
        "print(max(Tuple1))"
      ],
      "metadata": {
        "colab": {
          "base_uri": "https://localhost:8080/"
        },
        "id": "BX61XVtUAwlu",
        "outputId": "a2cee43f-a377-40bf-e2f2-e09754593e97"
      },
      "execution_count": 18,
      "outputs": [
        {
          "output_type": "stream",
          "name": "stdout",
          "text": [
            "8765\n"
          ]
        }
      ]
    },
    {
      "cell_type": "markdown",
      "source": [
        "**2.B) min():**"
      ],
      "metadata": {
        "id": "PjbTMi4boksZ"
      }
    },
    {
      "cell_type": "code",
      "source": [
        "print(min(Tuple1))"
      ],
      "metadata": {
        "colab": {
          "base_uri": "https://localhost:8080/"
        },
        "id": "vq2ieiZ7mmfT",
        "outputId": "398e6fc2-9bd9-4927-d01f-c542032ec67b"
      },
      "execution_count": 19,
      "outputs": [
        {
          "output_type": "stream",
          "name": "stdout",
          "text": [
            "1\n"
          ]
        }
      ]
    },
    {
      "cell_type": "markdown",
      "source": [
        "**2.C)Tuple(seq)**"
      ],
      "metadata": {
        "id": "Mv267Hlpovz9"
      }
    },
    {
      "cell_type": "code",
      "source": [
        "seq=[1, 2, 3, 4, 5, 1, 2, 4, 5]\n",
        "Tuple2=tuple(seq)\n",
        "print(Tuple2, type(Tuple2))"
      ],
      "metadata": {
        "colab": {
          "base_uri": "https://localhost:8080/"
        },
        "id": "rL7zp3_1ooEt",
        "outputId": "f0cd064b-7b9b-4275-b2d1-0b02e1a94fba"
      },
      "execution_count": 20,
      "outputs": [
        {
          "output_type": "stream",
          "name": "stdout",
          "text": [
            "(1, 2, 3, 4, 5, 1, 2, 4, 5) <class 'tuple'>\n"
          ]
        }
      ]
    },
    {
      "cell_type": "markdown",
      "source": [
        "# Python Set\n",
        "Create your own Set to operate the below Python Set Operations ?\n",
        "otherwise use the below set:\n",
        "       Set1 = {1,4,2,4,5,6,3,5,4,6,77,8,7,7,876}\n",
        "       Set2 = {3,432,5,6,4,6,7,6,5,6,54,567,5}\n",
        "   \n",
        "1. Set Operations\n",
        "    A. Union\n",
        "    B. Intersection\n",
        "    C. Difference\n",
        "    D. Symmetric difference\n",
        "**1.A) Union:**\n"
      ],
      "metadata": {
        "id": "TnkIBFj-5Jyp"
      }
    },
    {
      "cell_type": "code",
      "source": [
        "Set1 = {1,4,2,4,5,6,3,5,4,6,77,8,7,7,876}\n",
        "Set2 = {3,432,5,6,4,6,7,6,5,6,54,567,5}\n",
        "Union_set=Set1 | Set2\n",
        "print(Union_set)"
      ],
      "metadata": {
        "colab": {
          "base_uri": "https://localhost:8080/"
        },
        "id": "BUseDAwP5agX",
        "outputId": "64e332ea-c0be-408a-8350-4fce4a48816e"
      },
      "execution_count": 21,
      "outputs": [
        {
          "output_type": "stream",
          "name": "stdout",
          "text": [
            "{1, 2, 3, 4, 5, 6, 7, 8, 876, 77, 432, 54, 567}\n"
          ]
        }
      ]
    },
    {
      "cell_type": "markdown",
      "source": [
        "**1.B. Intersection**\n"
      ],
      "metadata": {
        "id": "qM4m8RZT50-b"
      }
    },
    {
      "cell_type": "code",
      "source": [
        "print(Set1 & Set2)"
      ],
      "metadata": {
        "colab": {
          "base_uri": "https://localhost:8080/"
        },
        "id": "gfqztIE857LD",
        "outputId": "89082a4e-6a7b-46c9-b791-1fa83dcaff2c"
      },
      "execution_count": 22,
      "outputs": [
        {
          "output_type": "stream",
          "name": "stdout",
          "text": [
            "{3, 4, 5, 6, 7}\n"
          ]
        }
      ]
    },
    {
      "cell_type": "markdown",
      "source": [
        "**1.C. Difference**\n"
      ],
      "metadata": {
        "id": "5rbvd9MG57vl"
      }
    },
    {
      "cell_type": "code",
      "source": [
        "print(Set1 - Set2)\n",
        "print(Set2 - Set1)"
      ],
      "metadata": {
        "colab": {
          "base_uri": "https://localhost:8080/"
        },
        "id": "7dqjAlOt6BLt",
        "outputId": "0cfb17e7-c749-428e-a765-c77110dded2e"
      },
      "execution_count": 23,
      "outputs": [
        {
          "output_type": "stream",
          "name": "stdout",
          "text": [
            "{1, 2, 8, 876, 77}\n",
            "{432, 54, 567}\n"
          ]
        }
      ]
    },
    {
      "cell_type": "markdown",
      "source": [
        "**1.D. Symmetric difference:**"
      ],
      "metadata": {
        "id": "gUK2htEq6Byr"
      }
    },
    {
      "cell_type": "code",
      "source": [
        "print(Set1^Set2)"
      ],
      "metadata": {
        "colab": {
          "base_uri": "https://localhost:8080/"
        },
        "id": "73mZnVau6HfW",
        "outputId": "5e71b1da-e9bb-4782-e4ec-0663761d3a86"
      },
      "execution_count": 24,
      "outputs": [
        {
          "output_type": "stream",
          "name": "stdout",
          "text": [
            "{1, 2, 8, 876, 77, 432, 54, 567}\n"
          ]
        }
      ]
    },
    {
      "cell_type": "markdown",
      "source": [
        "# Python Dictionary\n",
        "Create your own Dictionary to perform the below Python Built-in Dictionary functions\n",
        "otherwise use the below Dictionary:\n",
        "                           dict = {'Name': 'Student', 'Age': 27};\n",
        "   A.  len(dict)    \n",
        "   B.  str(dict)      \n",
        "   C.  type(variable)\n",
        "   \n",
        "**1.A) len(dict):**\n"
      ],
      "metadata": {
        "id": "lWFJTVO56Gh8"
      }
    },
    {
      "cell_type": "code",
      "source": [
        "dict = {'Name': 'Student', 'Age': 27}\n",
        "print(len(dict))"
      ],
      "metadata": {
        "colab": {
          "base_uri": "https://localhost:8080/"
        },
        "id": "wmL8eZZB6Y07",
        "outputId": "861cd26b-676a-470d-9caa-5dd02e3d8979"
      },
      "execution_count": 25,
      "outputs": [
        {
          "output_type": "stream",
          "name": "stdout",
          "text": [
            "2\n"
          ]
        }
      ]
    },
    {
      "cell_type": "markdown",
      "source": [
        "**2.B) str(dict):**"
      ],
      "metadata": {
        "id": "UOuxeuoG6dQk"
      }
    },
    {
      "cell_type": "code",
      "source": [
        "print(str(dict))"
      ],
      "metadata": {
        "colab": {
          "base_uri": "https://localhost:8080/"
        },
        "id": "NsrAWcxD6cgi",
        "outputId": "a7f1089b-faa3-4d12-84ec-24907d8cc3ed"
      },
      "execution_count": 26,
      "outputs": [
        {
          "output_type": "stream",
          "name": "stdout",
          "text": [
            "{'Name': 'Student', 'Age': 27}\n"
          ]
        }
      ]
    },
    {
      "cell_type": "markdown",
      "source": [
        "**1.C) type(variable):**"
      ],
      "metadata": {
        "id": "CIQZnlLH6j7F"
      }
    },
    {
      "cell_type": "code",
      "source": [
        "print(type(dict))"
      ],
      "metadata": {
        "colab": {
          "base_uri": "https://localhost:8080/"
        },
        "id": "GbqwCN5Q6nUn",
        "outputId": "153ed054-702d-4da8-bfee-c5cef78d57ad"
      },
      "execution_count": 27,
      "outputs": [
        {
          "output_type": "stream",
          "name": "stdout",
          "text": [
            "<class 'dict'>\n"
          ]
        }
      ]
    },
    {
      "cell_type": "markdown",
      "source": [
        "2.Create your own Dictionary to perform the below Python Built-in Dictionary methods\n",
        "otherwise use the below Dictionary:\n",
        "\n",
        "                           dictionaries = {0:\" Data\",1: \"GUVI\", 2: \"GEEK\",3:\"Python\",4:\"Happy\"}\n",
        "   A.  dic.clear()\n",
        "   B.  dict.copy()  \n",
        "   C.  dict.fromkeys()\n",
        "   D.  dict.get(key[, value])    \n",
        "   E.  dict.items()   \n",
        "   F.  dict.keys()   \n",
        "   G.  dict.setdefault()  \n",
        "   H.  dict.update()  \n",
        "   I.  dict.values()  \n",
        "**2.A) dic.clear():**\n"
      ],
      "metadata": {
        "id": "Q-wrCAPkpZl-"
      }
    },
    {
      "cell_type": "code",
      "source": [
        "dictionaries = {0:\" Data\",1: \"GUVI\", 2: \"GEEK\",3:\"Python\",4:\"Happy\"}\n",
        "dictionaries"
      ],
      "metadata": {
        "colab": {
          "base_uri": "https://localhost:8080/"
        },
        "id": "YyOIVovxpfSd",
        "outputId": "22904847-d1d5-44d2-d27f-bd39b909a808"
      },
      "execution_count": 28,
      "outputs": [
        {
          "output_type": "execute_result",
          "data": {
            "text/plain": [
              "{0: ' Data', 1: 'GUVI', 2: 'GEEK', 3: 'Python', 4: 'Happy'}"
            ]
          },
          "metadata": {},
          "execution_count": 28
        }
      ]
    },
    {
      "cell_type": "code",
      "source": [
        "dictionaries.clear()\n",
        "dictionaries"
      ],
      "metadata": {
        "colab": {
          "base_uri": "https://localhost:8080/"
        },
        "id": "ocRzRehfpr0n",
        "outputId": "097f5228-7f9b-4e55-a806-2089377786af"
      },
      "execution_count": 29,
      "outputs": [
        {
          "output_type": "execute_result",
          "data": {
            "text/plain": [
              "{}"
            ]
          },
          "metadata": {},
          "execution_count": 29
        }
      ]
    },
    {
      "cell_type": "code",
      "source": [
        "dict1 = {'name':('Selvi', 'Shravann', 'Mrinal'), 'Age': (37, 6, 3), 'Marks':(98, 96, 89)}\n",
        "dict1"
      ],
      "metadata": {
        "colab": {
          "base_uri": "https://localhost:8080/"
        },
        "id": "VmQZlspxp8az",
        "outputId": "92373c85-ef43-464f-be35-60fd3d6ebbc2"
      },
      "execution_count": 30,
      "outputs": [
        {
          "output_type": "execute_result",
          "data": {
            "text/plain": [
              "{'name': ('Selvi', 'Shravann', 'Mrinal'),\n",
              " 'Age': (37, 6, 3),\n",
              " 'Marks': (98, 96, 89)}"
            ]
          },
          "metadata": {},
          "execution_count": 30
        }
      ]
    },
    {
      "cell_type": "markdown",
      "source": [
        "**2.B) dict.copy():**"
      ],
      "metadata": {
        "id": "QgsBo2cvs1gw"
      }
    },
    {
      "cell_type": "code",
      "source": [
        "dict2=dict1.copy()\n",
        "print(dict2)"
      ],
      "metadata": {
        "colab": {
          "base_uri": "https://localhost:8080/"
        },
        "id": "v3fl-dEnsXCl",
        "outputId": "df1b6382-7cc9-4e7b-ad20-3ca6584b53c8"
      },
      "execution_count": 31,
      "outputs": [
        {
          "output_type": "stream",
          "name": "stdout",
          "text": [
            "{'name': ('Selvi', 'Shravann', 'Mrinal'), 'Age': (37, 6, 3), 'Marks': (98, 96, 89)}\n"
          ]
        }
      ]
    },
    {
      "cell_type": "markdown",
      "source": [
        "**2.C) dict.fromkeys():**"
      ],
      "metadata": {
        "id": "ol1K7Jhps5A1"
      }
    },
    {
      "cell_type": "code",
      "source": [
        "keys = ['name', 'age', 'city']\n",
        "dict3=dict.fromkeys(keys)\n",
        "dict3"
      ],
      "metadata": {
        "colab": {
          "base_uri": "https://localhost:8080/"
        },
        "id": "t8Z95UtXs4ry",
        "outputId": "38e39847-f847-4676-949e-9a9e46d5cdef"
      },
      "execution_count": 32,
      "outputs": [
        {
          "output_type": "execute_result",
          "data": {
            "text/plain": [
              "{'name': None, 'age': None, 'city': None}"
            ]
          },
          "metadata": {},
          "execution_count": 32
        }
      ]
    },
    {
      "cell_type": "markdown",
      "source": [
        "**2.D) dict.get(key[, value]) :**"
      ],
      "metadata": {
        "id": "b49mU870tQUe"
      }
    },
    {
      "cell_type": "code",
      "source": [
        "print(dict1.get('name'))"
      ],
      "metadata": {
        "colab": {
          "base_uri": "https://localhost:8080/"
        },
        "id": "VpIgdZAmsz16",
        "outputId": "13278451-4ce8-4c76-d9e6-15c5be96954d"
      },
      "execution_count": 33,
      "outputs": [
        {
          "output_type": "stream",
          "name": "stdout",
          "text": [
            "('Selvi', 'Shravann', 'Mrinal')\n"
          ]
        }
      ]
    },
    {
      "cell_type": "code",
      "source": [
        "print(dict1.get('salary', \"Not found\"))"
      ],
      "metadata": {
        "colab": {
          "base_uri": "https://localhost:8080/"
        },
        "id": "mL07Fv3ntuvZ",
        "outputId": "e2c9232a-6795-4878-cf1a-fef6f35448fb"
      },
      "execution_count": 34,
      "outputs": [
        {
          "output_type": "stream",
          "name": "stdout",
          "text": [
            "Not found\n"
          ]
        }
      ]
    },
    {
      "cell_type": "markdown",
      "source": [
        "**2.E) dict.items()**"
      ],
      "metadata": {
        "id": "NEFUiVdRwyr3"
      }
    },
    {
      "cell_type": "code",
      "source": [
        "print(dict1.items())"
      ],
      "metadata": {
        "colab": {
          "base_uri": "https://localhost:8080/"
        },
        "id": "dDEzafmZwmbl",
        "outputId": "af3d6345-b4a7-442b-b34e-594e0c78f65e"
      },
      "execution_count": 35,
      "outputs": [
        {
          "output_type": "stream",
          "name": "stdout",
          "text": [
            "dict_items([('name', ('Selvi', 'Shravann', 'Mrinal')), ('Age', (37, 6, 3)), ('Marks', (98, 96, 89))])\n"
          ]
        }
      ]
    },
    {
      "cell_type": "markdown",
      "source": [
        "**2.F) dict.keys() :**"
      ],
      "metadata": {
        "id": "duFtVgOmw9Y_"
      }
    },
    {
      "cell_type": "code",
      "source": [
        "print(dict1.keys())"
      ],
      "metadata": {
        "colab": {
          "base_uri": "https://localhost:8080/"
        },
        "id": "gRQEb1kwwoBe",
        "outputId": "9c016902-4006-4fc1-fadf-a40b800d972a"
      },
      "execution_count": 36,
      "outputs": [
        {
          "output_type": "stream",
          "name": "stdout",
          "text": [
            "dict_keys(['name', 'Age', 'Marks'])\n"
          ]
        }
      ]
    },
    {
      "cell_type": "markdown",
      "source": [
        "**2.G) dict.setdefault():**"
      ],
      "metadata": {
        "id": "hjHH6KALxR-8"
      }
    },
    {
      "cell_type": "code",
      "source": [
        "salary = dict1.setdefault('salary')\n",
        "print(dict1)"
      ],
      "metadata": {
        "colab": {
          "base_uri": "https://localhost:8080/"
        },
        "id": "YozAxrGaxPWE",
        "outputId": "631fa841-8ec7-4ff9-c374-a67b507fc51e"
      },
      "execution_count": 37,
      "outputs": [
        {
          "output_type": "stream",
          "name": "stdout",
          "text": [
            "{'name': ('Selvi', 'Shravann', 'Mrinal'), 'Age': (37, 6, 3), 'Marks': (98, 96, 89), 'salary': None}\n"
          ]
        }
      ]
    },
    {
      "cell_type": "code",
      "source": [
        "grade = dict1.setdefault('grade', 'A')\n",
        "print(dict1)"
      ],
      "metadata": {
        "colab": {
          "base_uri": "https://localhost:8080/"
        },
        "id": "6Whj_rLJxfRh",
        "outputId": "dc4088dc-ef92-4b43-a427-ede28490fa5d"
      },
      "execution_count": 38,
      "outputs": [
        {
          "output_type": "stream",
          "name": "stdout",
          "text": [
            "{'name': ('Selvi', 'Shravann', 'Mrinal'), 'Age': (37, 6, 3), 'Marks': (98, 96, 89), 'salary': None, 'grade': 'A'}\n"
          ]
        }
      ]
    },
    {
      "cell_type": "markdown",
      "source": [
        "**2.H) dict.update():**"
      ],
      "metadata": {
        "id": "A2QT_1cnyGYM"
      }
    },
    {
      "cell_type": "code",
      "source": [
        "dict2={'salary': (10000, 3000, 0)}\n",
        "dict1.update(dict2)\n",
        "print(dict1)"
      ],
      "metadata": {
        "colab": {
          "base_uri": "https://localhost:8080/"
        },
        "id": "6M0G10Usxj5t",
        "outputId": "9be8438b-01fb-432c-bbd5-2bbbfb18658a"
      },
      "execution_count": 39,
      "outputs": [
        {
          "output_type": "stream",
          "name": "stdout",
          "text": [
            "{'name': ('Selvi', 'Shravann', 'Mrinal'), 'Age': (37, 6, 3), 'Marks': (98, 96, 89), 'salary': (10000, 3000, 0), 'grade': 'A'}\n"
          ]
        }
      ]
    },
    {
      "cell_type": "markdown",
      "source": [
        "**2.L)  dict.values():**"
      ],
      "metadata": {
        "id": "ZizcGY1Wyiaq"
      }
    },
    {
      "cell_type": "code",
      "source": [
        "print(dict1.values())"
      ],
      "metadata": {
        "colab": {
          "base_uri": "https://localhost:8080/"
        },
        "id": "pLOXLSQjyc5S",
        "outputId": "1cfc8f66-7902-4c67-d5eb-f05cc5067a0b"
      },
      "execution_count": 40,
      "outputs": [
        {
          "output_type": "stream",
          "name": "stdout",
          "text": [
            "dict_values([('Selvi', 'Shravann', 'Mrinal'), (37, 6, 3), (98, 96, 89), (10000, 3000, 0), 'A'])\n"
          ]
        }
      ]
    },
    {
      "cell_type": "markdown",
      "source": [
        "# Conditional Statements\n",
        "   1. IF\n",
        "   2. IF-ELSE\n",
        "   3. If...Elif...Else\n",
        "\n",
        "1. Write if statement 13 is greater than 25?\n"
      ],
      "metadata": {
        "id": "Ytm8pvKFyw8t"
      }
    },
    {
      "cell_type": "code",
      "source": [
        "a=13\n",
        "b=25\n",
        "if a<b:\n",
        "  print(b, 'is greater than', a)\n",
        "elif a==b:\n",
        "  print('They are equal')\n",
        "else:\n",
        "  print(a, 'is greater than', b)\n"
      ],
      "metadata": {
        "colab": {
          "base_uri": "https://localhost:8080/"
        },
        "id": "YaAatBW_yzpe",
        "outputId": "f9597d3b-25f9-450f-d9be-431f82be1355"
      },
      "execution_count": 42,
      "outputs": [
        {
          "output_type": "stream",
          "name": "stdout",
          "text": [
            "25 is greater than 13\n"
          ]
        }
      ]
    },
    {
      "cell_type": "markdown",
      "source": [
        "**2.  Write a if else  statement to find if the number is divisible by 25?**"
      ],
      "metadata": {
        "id": "Ul2lW3emzOIR"
      }
    },
    {
      "cell_type": "code",
      "source": [
        "a=int(input())\n",
        "if a==0:\n",
        "  print('Enter a valid number')\n",
        "elif a%25==0:\n",
        "  print(a, 'is divisible by 25')\n",
        "else:\n",
        "  print(a, 'is not divisible by 25')"
      ],
      "metadata": {
        "colab": {
          "base_uri": "https://localhost:8080/"
        },
        "id": "rysDPrlPzjw7",
        "outputId": "fbc8210f-8781-4698-ba3e-66915d655b5f"
      },
      "execution_count": 43,
      "outputs": [
        {
          "output_type": "stream",
          "name": "stdout",
          "text": [
            "75\n",
            "75 is divisible by 25\n"
          ]
        }
      ]
    },
    {
      "cell_type": "markdown",
      "source": [
        "**3.Using the three variables 'a = 154; b = 2451; c = 6054',\n",
        "Write a If...Elif...Else statement to find the greatest number**"
      ],
      "metadata": {
        "id": "jv--3k8b0SYQ"
      }
    },
    {
      "cell_type": "code",
      "source": [
        "a, b, c= 154, 2451, 6054\n",
        "if a>b and a>c:\n",
        "  print(a ,'is the greatest number')\n",
        "elif b>a and b>c:\n",
        "  print(b ,'is the greatest number')\n",
        "else:\n",
        "  print(c, 'is the greatest number')\n"
      ],
      "metadata": {
        "colab": {
          "base_uri": "https://localhost:8080/"
        },
        "id": "X0ALSYLLzvm7",
        "outputId": "fb81631e-6a26-46f2-cf2f-565a3a3bf542"
      },
      "execution_count": 44,
      "outputs": [
        {
          "output_type": "stream",
          "name": "stdout",
          "text": [
            "6054 is the greatest number\n"
          ]
        }
      ]
    }
  ]
}