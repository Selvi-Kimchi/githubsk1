{
  "nbformat": 4,
  "nbformat_minor": 0,
  "metadata": {
    "colab": {
      "provenance": [],
      "authorship_tag": "ABX9TyNRp/jp2N8hyMCtgei1wrTL"
    },
    "kernelspec": {
      "name": "python3",
      "display_name": "Python 3"
    },
    "language_info": {
      "name": "python"
    }
  },
  "cells": [
    {
      "cell_type": "markdown",
      "source": [
        "1.\tWrite a Python function to multiply all the numbers in a list"
      ],
      "metadata": {
        "id": "vwBy6B2wFTLY"
      }
    },
    {
      "cell_type": "code",
      "source": [
        "list1=[1, 3, 5, 7, 9]\n",
        "product=1\n",
        "for i in list1:\n",
        "  product*=i\n",
        "print(product)\n"
      ],
      "metadata": {
        "colab": {
          "base_uri": "https://localhost:8080/"
        },
        "id": "IW5WCsPWFVHo",
        "outputId": "698b131d-afa3-4ed7-d0e1-324a371df476"
      },
      "execution_count": 1,
      "outputs": [
        {
          "output_type": "stream",
          "name": "stdout",
          "text": [
            "945\n"
          ]
        }
      ]
    },
    {
      "cell_type": "markdown",
      "source": [
        "2. Write a Python function to reverse a string\n",
        "i) use for loop\n",
        "ii) use while loop\n"
      ],
      "metadata": {
        "id": "8z3FVREQFcOm"
      }
    },
    {
      "cell_type": "code",
      "source": [
        "# for loop\n",
        "name = 'Selvi'\n",
        "reverse=\"\"\n",
        "for i in range(len(name)-1, -1, -1):\n",
        "  reverse+=name[i]\n",
        "print(reverse)\n",
        "\n",
        "# while loop\n",
        "while i>0:\n",
        "  reverse+=name[i]\n",
        "  i-=1\n",
        "print(reverse)\n"
      ],
      "metadata": {
        "colab": {
          "base_uri": "https://localhost:8080/"
        },
        "id": "rgou9gxKFeLC",
        "outputId": "a418ec10-2ffe-41ab-f8f9-c05e1078a3a2"
      },
      "execution_count": 2,
      "outputs": [
        {
          "output_type": "stream",
          "name": "stdout",
          "text": [
            "ivleS\n",
            "ivleS\n"
          ]
        }
      ]
    },
    {
      "cell_type": "markdown",
      "source": [
        "3. Write a function to add and subtract two variables\n"
      ],
      "metadata": {
        "id": "8llz_D3mFnDM"
      }
    },
    {
      "cell_type": "code",
      "source": [
        "def add_subtract(a, b):\n",
        "  addition = a+b\n",
        "  subtraction=a-b\n",
        "  return addition, subtraction\n",
        "\n",
        "add_subtract(100, 50)"
      ],
      "metadata": {
        "colab": {
          "base_uri": "https://localhost:8080/"
        },
        "id": "AVQCPTUiFlaB",
        "outputId": "e04ffecb-6c36-4d3b-f084-c23e5a9ac55d"
      },
      "execution_count": 3,
      "outputs": [
        {
          "output_type": "execute_result",
          "data": {
            "text/plain": [
              "(150, 50)"
            ]
          },
          "metadata": {},
          "execution_count": 3
        }
      ]
    },
    {
      "cell_type": "markdown",
      "source": [
        "4. Write a function to check the number is divisible by 12"
      ],
      "metadata": {
        "id": "bRUyfk3YFz7D"
      }
    },
    {
      "cell_type": "code",
      "source": [
        "def check_divisible_by_12(a):\n",
        "  if a%12==0:\n",
        "    print(a, 'is divisible by 12')\n",
        "  else:\n",
        "    print(a, 'is not divisible by 12')\n",
        "check_divisible_by_12(72)"
      ],
      "metadata": {
        "colab": {
          "base_uri": "https://localhost:8080/"
        },
        "id": "lVL5dfzEFytu",
        "outputId": "5ea8e5c8-c3cc-4fc9-8f80-aa6f73516a39"
      },
      "execution_count": 4,
      "outputs": [
        {
          "output_type": "stream",
          "name": "stdout",
          "text": [
            "72 is divisible by 12\n"
          ]
        }
      ]
    },
    {
      "cell_type": "markdown",
      "source": [
        "5. Write a function to calculate the number of days and weeks"
      ],
      "metadata": {
        "id": "s1_Yp9WnF8e0"
      }
    },
    {
      "cell_type": "code",
      "source": [
        "def cal_days_weeks(n):\n",
        "  weeks=n//7\n",
        "  days=n%7\n",
        "  print(n, 'has', weeks, \"weeks and\", days, \"days\")\n",
        "cal_days_weeks(365)"
      ],
      "metadata": {
        "colab": {
          "base_uri": "https://localhost:8080/"
        },
        "id": "V4B-59sFF7jh",
        "outputId": "59591aab-56f5-4040-b8ad-9842a78bcf1a"
      },
      "execution_count": 5,
      "outputs": [
        {
          "output_type": "stream",
          "name": "stdout",
          "text": [
            "365 has 52 weeks and 1 days\n"
          ]
        }
      ]
    },
    {
      "cell_type": "markdown",
      "source": [
        "6.Write a Python function to Find the 5!?"
      ],
      "metadata": {
        "id": "5AdVc58SGbaX"
      }
    },
    {
      "cell_type": "code",
      "source": [
        "factorial=1\n",
        "for i in range(1, 6):\n",
        "  factorial*=i\n",
        "print(\"factorial of 5 is\", factorial)\n"
      ],
      "metadata": {
        "colab": {
          "base_uri": "https://localhost:8080/"
        },
        "id": "dQg-awPtGGzt",
        "outputId": "3e8c2e37-87c4-475e-ec11-6a705485265a"
      },
      "execution_count": 6,
      "outputs": [
        {
          "output_type": "stream",
          "name": "stdout",
          "text": [
            "factorial of 5 is 120\n"
          ]
        }
      ]
    },
    {
      "cell_type": "markdown",
      "source": [
        "\n",
        "7. Write a Python function to find the unique elements of the list = [1,2,3,3,3,3,4,5,4,2,4,2,4,4,2,4,5,4,34,654,5,7,6,5,4,3]\n"
      ],
      "metadata": {
        "id": "S5pKulYMGg1T"
      }
    },
    {
      "cell_type": "code",
      "source": [
        "list1=[1,2,3,3,3,3,4,5,4,2,4,2,4,4,2,4,5,4,34,654,5,7,6,5,4,3]\n",
        "list2=[]\n",
        "for i in list1:\n",
        "  if i not in list2:\n",
        "    list2.append(i)\n",
        "print(list2)\n"
      ],
      "metadata": {
        "colab": {
          "base_uri": "https://localhost:8080/"
        },
        "id": "VA1o5ABIGivj",
        "outputId": "d3329758-f1d1-4ca2-cf59-f6e06c111ac7"
      },
      "execution_count": 7,
      "outputs": [
        {
          "output_type": "stream",
          "name": "stdout",
          "text": [
            "[1, 2, 3, 4, 5, 34, 654, 7, 6]\n"
          ]
        }
      ]
    },
    {
      "cell_type": "markdown",
      "source": [
        "Types of arguments\n",
        "\n",
        "\n",
        "   1. Required arguments\n",
        "   2. Keyword arguments\n",
        "   3. Default arguments\n",
        "\n",
        "1. Required arguments:\n",
        "Write a program to calculate Simple Interest which accepts three arguments and returns the simple interest accordingly"
      ],
      "metadata": {
        "id": "lS9z5KUeGrbh"
      }
    },
    {
      "cell_type": "code",
      "source": [
        "def simple_interest(principal, rate, time):\n",
        "  return((principal*rate*time)/100)\n",
        "simple_interest(10000, 4, 5)"
      ],
      "metadata": {
        "colab": {
          "base_uri": "https://localhost:8080/"
        },
        "id": "p4D6l49sGxFk",
        "outputId": "5725ae04-49d8-4d60-a6d3-c994d5c4849e"
      },
      "execution_count": 8,
      "outputs": [
        {
          "output_type": "execute_result",
          "data": {
            "text/plain": [
              "2000.0"
            ]
          },
          "metadata": {},
          "execution_count": 8
        }
      ]
    },
    {
      "cell_type": "markdown",
      "source": [
        "\n",
        "2.Keyword arguments:\n",
        "Write a function which will be called with the name and message as the keyword arguments. Output will be \"printing the message with 'name' and  'message'\"\n"
      ],
      "metadata": {
        "id": "pmj0m3XXG6Qp"
      }
    },
    {
      "cell_type": "code",
      "source": [
        "def hello(name, message):\n",
        "  print(f\"Printing the message with '{name}'and '{message}'\")\n",
        "hello(name='Selvi', message='Hello!')\n",
        "hello(message='Good Morning', name='Selvi')\n"
      ],
      "metadata": {
        "colab": {
          "base_uri": "https://localhost:8080/"
        },
        "id": "aWVyfmgFG3Vm",
        "outputId": "9720a3f1-e6c2-4e3e-ff18-5114324f467e"
      },
      "execution_count": 9,
      "outputs": [
        {
          "output_type": "stream",
          "name": "stdout",
          "text": [
            "Printing the message with 'Selvi'and 'Hello!'\n",
            "Printing the message with 'Selvi'and 'Good Morning'\n"
          ]
        }
      ]
    },
    {
      "cell_type": "markdown",
      "source": [
        "3.Default Arguments:\n",
        "Write a function which will be called with the name as keyword argument and age as the default arguments. Output will be \"My name is 'name' and 'age is 27'\"\n"
      ],
      "metadata": {
        "id": "VikufmCRHO9r"
      }
    },
    {
      "cell_type": "code",
      "source": [
        "def introduce(name, age=27):\n",
        "    print(f\"My name is '{name}' and age is '{age}'\")\n",
        "\n",
        "introduce(\"Selvi\")"
      ],
      "metadata": {
        "colab": {
          "base_uri": "https://localhost:8080/"
        },
        "id": "5hpCO_OmHRl3",
        "outputId": "a81f4ef7-ba54-4fc4-898c-b7c743dae133"
      },
      "execution_count": 10,
      "outputs": [
        {
          "output_type": "stream",
          "name": "stdout",
          "text": [
            "My name is 'Selvi' and age is '27'\n"
          ]
        }
      ]
    },
    {
      "cell_type": "markdown",
      "source": [
        "**lambda function**\n",
        "1. Get a number from user,  find if it is even or odd number?\n"
      ],
      "metadata": {
        "id": "gRO3JlIoHlRY"
      }
    },
    {
      "cell_type": "code",
      "source": [
        "is_even = lambda n: print(\"even\") if n%2==0 else print(\"odd\")\n",
        "n=int(input())\n",
        "is_even(n)\n"
      ],
      "metadata": {
        "colab": {
          "base_uri": "https://localhost:8080/"
        },
        "id": "qLSm0BTCHTka",
        "outputId": "80f081fb-fb0d-4a6e-dbd0-204df9885d4d"
      },
      "execution_count": 11,
      "outputs": [
        {
          "output_type": "stream",
          "name": "stdout",
          "text": [
            "45\n",
            "odd\n"
          ]
        }
      ]
    },
    {
      "cell_type": "markdown",
      "source": [
        "2. Take a input from user and  square it\n"
      ],
      "metadata": {
        "id": "TbK1UF6WHtsZ"
      }
    },
    {
      "cell_type": "code",
      "source": [
        "square= lambda x: x**2\n",
        "n=int(input())\n",
        "square(n)\n"
      ],
      "metadata": {
        "colab": {
          "base_uri": "https://localhost:8080/"
        },
        "id": "SnUR2EZhHvss",
        "outputId": "e07c30b8-d109-451c-feb9-75bc8b37c457"
      },
      "execution_count": 12,
      "outputs": [
        {
          "name": "stdout",
          "output_type": "stream",
          "text": [
            "45\n"
          ]
        },
        {
          "output_type": "execute_result",
          "data": {
            "text/plain": [
              "2025"
            ]
          },
          "metadata": {},
          "execution_count": 12
        }
      ]
    },
    {
      "cell_type": "markdown",
      "source": [
        "3. Write a lambda function using logical operators?\n",
        "Hint:\n",
        "Check x < 10\n",
        "Output: False / True\n"
      ],
      "metadata": {
        "id": "z4zcB8O8Hz0V"
      }
    },
    {
      "cell_type": "code",
      "source": [
        "logic = lambda x: True if x<10 else False\n",
        "n=int(input())\n",
        "logic(n)\n"
      ],
      "metadata": {
        "colab": {
          "base_uri": "https://localhost:8080/"
        },
        "id": "JsFhnowEHyCi",
        "outputId": "707b8602-efdd-4712-e617-0d5985183d59"
      },
      "execution_count": 13,
      "outputs": [
        {
          "name": "stdout",
          "output_type": "stream",
          "text": [
            "5\n"
          ]
        },
        {
          "output_type": "execute_result",
          "data": {
            "text/plain": [
              "True"
            ]
          },
          "metadata": {},
          "execution_count": 13
        }
      ]
    },
    {
      "cell_type": "markdown",
      "source": [
        "4. Take an integer input from the user,  add 5 to the number and print it back?"
      ],
      "metadata": {
        "id": "1z8SIKPkH-Tl"
      }
    },
    {
      "cell_type": "code",
      "source": [
        "add_5 = lambda x: x+5\n",
        "n=int(input())\n",
        "add_5(n)"
      ],
      "metadata": {
        "colab": {
          "base_uri": "https://localhost:8080/"
        },
        "id": "obz_c4-GH6hH",
        "outputId": "302d38db-aa36-4a18-e72a-3db5234c9b86"
      },
      "execution_count": 14,
      "outputs": [
        {
          "name": "stdout",
          "output_type": "stream",
          "text": [
            "21\n"
          ]
        },
        {
          "output_type": "execute_result",
          "data": {
            "text/plain": [
              "26"
            ]
          },
          "metadata": {},
          "execution_count": 14
        }
      ]
    },
    {
      "cell_type": "markdown",
      "source": [
        "Map\n",
        "1. Add two lists using map ()\n",
        "    lis1 = [12, 24, 36]\n",
        "    lis2 = [41, 54, 69]\n",
        "   \n",
        "    Output:\n",
        "    [53, 78, 105]\n"
      ],
      "metadata": {
        "id": "S_uaHYFBIEFk"
      }
    },
    {
      "cell_type": "code",
      "source": [
        "list1 = [12, 24, 36]\n",
        "list2 = [41, 54, 69]\n",
        "add_lists= list(map (lambda x, y: x+y, list1, list2))\n",
        "add_lists\n"
      ],
      "metadata": {
        "colab": {
          "base_uri": "https://localhost:8080/"
        },
        "id": "0oxi-9zqICYG",
        "outputId": "659f4064-0f57-4a16-ebdb-70ab8675ee6f"
      },
      "execution_count": 15,
      "outputs": [
        {
          "output_type": "execute_result",
          "data": {
            "text/plain": [
              "[53, 78, 105]"
            ]
          },
          "metadata": {},
          "execution_count": 15
        }
      ]
    },
    {
      "cell_type": "markdown",
      "source": [
        "2. Use Lambda and map functions on a List, to square each element in the list = [1, 2, 3, 4, 5, 6, 7]"
      ],
      "metadata": {
        "id": "deZFlSroILDs"
      }
    },
    {
      "cell_type": "code",
      "source": [
        "list1 = [1, 2, 3, 4, 5, 6, 7]\n",
        "square_list=list(map (lambda x: x**2, list1))\n",
        "print(square_list)"
      ],
      "metadata": {
        "colab": {
          "base_uri": "https://localhost:8080/"
        },
        "id": "tAM0YzGVINTh",
        "outputId": "5dc053bf-5176-4319-c9be-14b936f266b1"
      },
      "execution_count": 16,
      "outputs": [
        {
          "output_type": "stream",
          "name": "stdout",
          "text": [
            "[1, 4, 9, 16, 25, 36, 49]\n"
          ]
        }
      ]
    },
    {
      "cell_type": "markdown",
      "source": [
        "3.In the given list [1, 2, 3, 4, 5, 6, 7], find the even and odd elements in the list, use the map()function"
      ],
      "metadata": {
        "id": "NXRyEtiYISZx"
      }
    },
    {
      "cell_type": "code",
      "source": [
        "numbers = [1, 2, 3, 4, 5, 6, 7]\n",
        "even_odd_classify = map(lambda x: 'Even' if x % 2 == 0 else 'Odd', numbers)\n",
        "result_list = list(even_odd_classify)\n",
        "print(result_list)"
      ],
      "metadata": {
        "colab": {
          "base_uri": "https://localhost:8080/"
        },
        "id": "ot1NZIeIIPCL",
        "outputId": "f284d666-16e4-420b-c4d8-0e033db3ba46"
      },
      "execution_count": 17,
      "outputs": [
        {
          "output_type": "stream",
          "name": "stdout",
          "text": [
            "['Odd', 'Even', 'Odd', 'Even', 'Odd', 'Even', 'Odd']\n"
          ]
        }
      ]
    },
    {
      "cell_type": "markdown",
      "source": [
        "\n",
        "4. In the given list [11, 12, 13, 14, 435, 6, 27], perform the Floor division using 7 on each elements on the list\n"
      ],
      "metadata": {
        "id": "lh47SbZUIVqK"
      }
    },
    {
      "cell_type": "code",
      "source": [
        "numbers = [11, 12, 13, 14, 435, 6, 27]\n",
        "floor_division_result = map(lambda x: x // 7, numbers)\n",
        "result_list = list(floor_division_result)\n",
        "print(result_list)"
      ],
      "metadata": {
        "colab": {
          "base_uri": "https://localhost:8080/"
        },
        "id": "_0U36UjwIXqd",
        "outputId": "11fd6e5b-1e61-47d8-cac4-c692157381de"
      },
      "execution_count": 18,
      "outputs": [
        {
          "output_type": "stream",
          "name": "stdout",
          "text": [
            "[1, 1, 1, 2, 62, 0, 3]\n"
          ]
        }
      ]
    },
    {
      "cell_type": "markdown",
      "source": [
        "**Filter**\n",
        "\n",
        "1.Using the given list lis1 = [3,12, 24, 36,43,654,65432,2,654,455,43,543] filter the numbers in list which are not divisible by 2\n"
      ],
      "metadata": {
        "id": "NV8ZOqmLIYPY"
      }
    },
    {
      "cell_type": "code",
      "source": [
        "List1=[3,12, 24, 36,43,654,65432,2,654,455,43,543]\n",
        "print(list(filter(lambda x: (x%7==0), List1)))\n"
      ],
      "metadata": {
        "colab": {
          "base_uri": "https://localhost:8080/"
        },
        "id": "Ms5NaOOMIcTa",
        "outputId": "7248f4e7-d313-4725-f0a1-9ec59729aae1"
      },
      "execution_count": 19,
      "outputs": [
        {
          "output_type": "stream",
          "name": "stdout",
          "text": [
            "[455]\n"
          ]
        }
      ]
    },
    {
      "cell_type": "markdown",
      "source": [
        "2.For a given list1 = [1, 2, 3, 4, 5, 6] filter only the even numbers (Use filter)."
      ],
      "metadata": {
        "id": "FPZTaNWaIlAn"
      }
    },
    {
      "cell_type": "code",
      "source": [
        "List1=[1, 2, 3, 4, 5, 6]\n",
        "print(list(filter(lambda x: (x%2==0), List1)))\n"
      ],
      "metadata": {
        "colab": {
          "base_uri": "https://localhost:8080/"
        },
        "id": "tOl5uM-tIfoO",
        "outputId": "99323236-848b-456b-e5a2-7e1fd5e60da9"
      },
      "execution_count": 20,
      "outputs": [
        {
          "output_type": "stream",
          "name": "stdout",
          "text": [
            "[2, 4, 6]\n"
          ]
        }
      ]
    },
    {
      "cell_type": "markdown",
      "source": [
        "3. For a given list = [2,3,5,3,6,3,7,4,6,7] filter only the even numbers using user defined function."
      ],
      "metadata": {
        "id": "DECHC5ngIqc6"
      }
    },
    {
      "cell_type": "code",
      "source": [
        "def is_even(List1):\n",
        "\tEven_num=[number for number in List1 if number%2==0]\n",
        "\treturn Even_num\n",
        "List1=[2,3,5,3,6,3,7,4,6,7]\n",
        "Even=is_even(List1)\n",
        "print(Even)"
      ],
      "metadata": {
        "colab": {
          "base_uri": "https://localhost:8080/"
        },
        "id": "RjJfke6RIppa",
        "outputId": "047089c5-6e5a-4882-ed10-ec03a220a885"
      },
      "execution_count": 21,
      "outputs": [
        {
          "output_type": "stream",
          "name": "stdout",
          "text": [
            "[2, 6, 4, 6]\n"
          ]
        }
      ]
    },
    {
      "cell_type": "markdown",
      "source": [
        "4. For a given list = [1, 12, 31, 4, 15, 6, 7] filter only the odd numbers using user defined function."
      ],
      "metadata": {
        "id": "t9CC80DcI5l_"
      }
    },
    {
      "cell_type": "code",
      "source": [
        "def is_odd(List1):\n",
        "\todd_num=[number for number in List1 if number%2!=0]\n",
        "\treturn odd_num\n",
        "List1=[2,3,5,3,6,3,7,4,6,7]\n",
        "Odd=is_odd(List1)\n",
        "print(Odd)\n"
      ],
      "metadata": {
        "colab": {
          "base_uri": "https://localhost:8080/"
        },
        "id": "4JvW6pH0Ivp3",
        "outputId": "b1c3517c-e7e4-4a6c-a138-048b8d5b14f3"
      },
      "execution_count": 22,
      "outputs": [
        {
          "output_type": "stream",
          "name": "stdout",
          "text": [
            "[3, 5, 3, 3, 7, 7]\n"
          ]
        }
      ]
    },
    {
      "cell_type": "markdown",
      "source": [
        "**Reduce**\n",
        "\n",
        "1.For list = [1, 2, 3, 4] multiply all the elements (use reduce function)\n"
      ],
      "metadata": {
        "id": "kXEilgjRJDgI"
      }
    },
    {
      "cell_type": "code",
      "source": [
        "from functools import reduce\n",
        "List1 = [1, 2, 3, 4]\n",
        "product = reduce(lambda x, y: x * y, List1)\n",
        "print(product)"
      ],
      "metadata": {
        "colab": {
          "base_uri": "https://localhost:8080/"
        },
        "id": "1ECbzdKaJDH_",
        "outputId": "131e1740-9da8-4875-ca4d-7a1d2b5e2c1e"
      },
      "execution_count": 23,
      "outputs": [
        {
          "output_type": "stream",
          "name": "stdout",
          "text": [
            "24\n"
          ]
        }
      ]
    },
    {
      "cell_type": "markdown",
      "source": [
        "2. For list = [ 11 , 13, 15, 16, 2,43 ]  sum all the elements (use reduce function)"
      ],
      "metadata": {
        "id": "KrPVA3w9JYFf"
      }
    },
    {
      "cell_type": "code",
      "source": [
        "List1=[ 11 , 13, 15, 16, 2,43 ]\n",
        "print(reduce(lambda x, y:x+y, List1))"
      ],
      "metadata": {
        "colab": {
          "base_uri": "https://localhost:8080/"
        },
        "id": "m1GbLd6XI9uE",
        "outputId": "ea45a1c3-1ca9-44cb-f83f-c73a702eb386"
      },
      "execution_count": 24,
      "outputs": [
        {
          "output_type": "stream",
          "name": "stdout",
          "text": [
            "100\n"
          ]
        }
      ]
    },
    {
      "cell_type": "markdown",
      "source": [
        "3. Find the maximum value in the list = [543,7,6,4567,7,78,6,6,78,765,678] (use reduce function)"
      ],
      "metadata": {
        "id": "T91psGTMJfM6"
      }
    },
    {
      "cell_type": "code",
      "source": [
        "List1=[543,7,6,4567,7,78,6,6,78,765,678]\n",
        "print(reduce(lambda a,b: a if a > b else b, List1))"
      ],
      "metadata": {
        "colab": {
          "base_uri": "https://localhost:8080/"
        },
        "id": "XgecEEzlJc7Q",
        "outputId": "0626faf3-22dc-406b-b3ff-c278d8cac9be"
      },
      "execution_count": 25,
      "outputs": [
        {
          "output_type": "stream",
          "name": "stdout",
          "text": [
            "4567\n"
          ]
        }
      ]
    },
    {
      "cell_type": "markdown",
      "source": [
        "4. Find the minimum value in the list= [543,7,6,4567,7,78,6,6,78,765,678] (use reduce function)"
      ],
      "metadata": {
        "id": "G3qZmQ_IJsVh"
      }
    },
    {
      "cell_type": "code",
      "source": [
        "List1=[543,7,6,4567,7,78,6,6,78,765,678]\n",
        "print(reduce(lambda a,b: a if a < b else b, List1))"
      ],
      "metadata": {
        "colab": {
          "base_uri": "https://localhost:8080/"
        },
        "id": "uvQN6-u_JoDj",
        "outputId": "3a389355-e59b-4122-e2b2-c406549176d3"
      },
      "execution_count": 26,
      "outputs": [
        {
          "output_type": "stream",
          "name": "stdout",
          "text": [
            "6\n"
          ]
        }
      ]
    }
  ]
}